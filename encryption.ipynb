{
 "cells": [
  {
   "cell_type": "markdown",
   "id": "54dc57e3",
   "metadata": {},
   "source": [
    "В файле шифр Цезаря"
   ]
  },
  {
   "cell_type": "markdown",
   "id": "a92b93cd",
   "metadata": {},
   "source": [
    "В тексте нет цифр, есть только буквы\\\n",
    "В английском наиболее употребляемая буква **E**\\\n",
    "Короткие зашифрованные слова опхожи на it, was\\\n",
    "С этим предположением можно раскодировать"
   ]
  },
  {
   "cell_type": "code",
   "execution_count": 1,
   "id": "fcd0f477",
   "metadata": {},
   "outputs": [],
   "source": [
    "file_path = 'data/encoded.txt'\n",
    "with open(file_path, 'r', encoding='utf-8') as file:\n",
    "    data = file.read()"
   ]
  },
  {
   "cell_type": "code",
   "execution_count": 2,
   "id": "53734c9c",
   "metadata": {},
   "outputs": [],
   "source": [
    "def decrypt(file, shift):\n",
    "    \"\"\"Расшифровка Цезаря со сдвигом shift\"\"\"\n",
    "    result = []\n",
    "    for char in file:\n",
    "        if 'a' <= char <= 'z':\n",
    "            # ord() выдает значение/номер симфола в кодировке utf-8\n",
    "            result.append(chr((ord(char) - ord('a') - shift) % 26 + ord('a')))\n",
    "        elif 'A' <= char <= 'Z':\n",
    "            # chr() возвращает символ, соответствующий номеру кодировки\n",
    "            result.append(chr((ord(char) - ord('A') - shift) % 26 + ord('A')))\n",
    "        else:\n",
    "            # В тексте есть пробелы\n",
    "            result.append(char)\n",
    "    return ''.join(result)"
   ]
  },
  {
   "cell_type": "code",
   "execution_count": 3,
   "id": "7909b115",
   "metadata": {},
   "outputs": [],
   "source": [
    "decrypted_text = decrypt(data, 13)"
   ]
  },
  {
   "cell_type": "code",
   "execution_count": 4,
   "id": "2a6a22f5",
   "metadata": {},
   "outputs": [
    {
     "data": {
      "text/plain": [
       "'It was the White Rabbit, trotting slowly back again, and looking anxiously about as it went, as if it had lost something; and she heard it muttering to itself \\'The Duchess! The Duchess! Oh my dear paws! Oh my fur and whiskers! She\\'ll get me executed, as sure as ferrets are ferrets! Where CAN I have dropped them, I wonder?\\' Alice guessed in a moment that it was looking for the fan and the pair of white kid gloves, and she very good-naturedly began hunting about for them, but they were nowhere to be seen-everything seemed to have changed since her swim in the pool, and the great hall, with the glass table and the little door, had vanished completely.\\nVery soon the Rabbit noticed Alice, as she went hunting about, and called out to her in an angry tone, \\'Why, Mary Ann, what ARE you doing out here? Run home this moment, and fetch me a pair of gloves and a fan! Quick, now!\\' And Alice was so much frightened that she ran off at once in the direction it pointed to, without trying to explain the mistake it had made.\\n\\'He took me for his housemaid,\\' she said to herself as she ran. \\'How surprised he\\'ll be when he finds out who I am! But I\\'d better take him his fan and gloves-that is, if I can find them.\\' As she said this, she came upon a neat little house, on the door of which was a bright brass plate with the name \\'W. RABBIT\\' engraved upon it. She went in without knocking, and hurried upstairs, in great fear lest she should meet the real Mary Ann, and be turned out of the house before she had found the fan and gloves.\\n\\'How queer it seems,\\' Alice said to herself, \\'to be going messages for a rabbit! I suppose Dinah\\'ll be sending me on messages next!\\' And she began fancying the sort of thing that would happen: \\'\"Miss Alice! Come here directly, and get ready for your walk!\" \"Coming in a minute, nurse! But I\\'ve got to see that the mouse doesn\\'t get out.\" Only I don\\'t think,\\' Alice went on, \\'that they\\'d let Dinah stop in the house if it began ordering people about like that!\\'\\nBy this time she had found her way into a tidy little room with a table in the window, and on it (as she had hoped) a fan and two or three pairs of tiny white kid gloves: she took up the fan and a pair of the gloves, and was just going to leave the room, when her eye fell upon a little bottle that stood near the looking glass. There was no label this time with the words \\'DRINK ME,\\' but nevertheless she uncorked it and put it to her lips. \\'I know SOMETHING interesting is sure to happen,\\' she said to herself, \\'whenever I eat or drink anything; so I\\'ll just see what this bottle does. I do hope it\\'ll make me grow large again, for really I\\'m quite tired of being such a tiny little thing!\\'\\nIt did so indeed, and much sooner than she had expected: before she had drunk half the bottle, she found her head pressing against the ceiling, and had to stoop to save her neck from being broken. She hastily put down the bottle, saying to herself \\'That\\'s quite enough  I hope I shan\\'t grow any more  As it is, I can\\'t get out at the door  I do wish I hadn\\'t drunk quite so much!\\'\\nAlas! it was too late to wish that! She went on growing, and growing, and very soon had to kneel down on the floor: in another minute there was not even room for this, and she tried the effect of lying down with one elbow against the door, and the other arm curled round her head. Still she went on growing, and, as a last resource, she put one arm out of the window, and one foot up the chimney, and said to herself \\'Now I can do no more, whatever happens. What WILL become of me?\\'\\nLuckily for Alice, the little magic bottle had now had its full effect, and she grew no larger: still it was very uncomfortable, and, as there seemed to be no sort of chance of her ever getting out of the room again, no wonder she felt unhappy.\\n\\'It was much pleasanter at home,\\' thought poor Alice, \\'when one wasn\\'t always growing larger and smaller, and being ordered about by mice and rabbits. I almost wish I hadn\\'t gone down that rabbit-hole-and yet-and yet-it\\'s rather curious, you know, this sort of life! I do wonder what CAN have happened to me! When I used to read fairy-tales, I fancied that kind of thing never happened, and now here I am in the middle of one! There ought to be a book written about me, that there ought! And when I grow up, I\\'ll write one-but I\\'m grown up now,\\' she added in a sorrowful tone; \\'at least there\\'s no room to grow up any more HERE.\\''"
      ]
     },
     "execution_count": 4,
     "metadata": {},
     "output_type": "execute_result"
    }
   ],
   "source": [
    "decrypted_text"
   ]
  }
 ],
 "metadata": {
  "kernelspec": {
   "display_name": "Python 3",
   "language": "python",
   "name": "python3"
  },
  "language_info": {
   "codemirror_mode": {
    "name": "ipython",
    "version": 3
   },
   "file_extension": ".py",
   "mimetype": "text/x-python",
   "name": "python",
   "nbconvert_exporter": "python",
   "pygments_lexer": "ipython3",
   "version": "3.12.4"
  }
 },
 "nbformat": 4,
 "nbformat_minor": 5
}
