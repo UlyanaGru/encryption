{
 "cells": [
  {
   "cell_type": "markdown",
   "id": "54dc57e3",
   "metadata": {},
   "source": [
    "В файле шифр Цезаря"
   ]
  },
  {
   "cell_type": "markdown",
   "id": "a92b93cd",
   "metadata": {},
   "source": [
    "В тексте нет цифр, есть только буквы\\\n",
    "В английском наиболее употребляемая буква **E**\\\n",
    "Короткие зашифрованные слова опхожи на it, was\\\n",
    "С этим предположением можно раскодировать"
   ]
  }
 ],
 "metadata": {
  "kernelspec": {
   "display_name": "Python 3",
   "language": "python",
   "name": "python3"
  },
  "language_info": {
   "codemirror_mode": {
    "name": "ipython",
    "version": 3
   },
   "file_extension": ".py",
   "mimetype": "text/x-python",
   "name": "python",
   "nbconvert_exporter": "python",
   "pygments_lexer": "ipython3",
   "version": "3.12.4"
  }
 },
 "nbformat": 4,
 "nbformat_minor": 5
}
