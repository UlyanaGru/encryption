{
 "cells": [
  {
   "cell_type": "markdown",
   "id": "54dc57e3",
   "metadata": {},
   "source": [
    "В файле шифр Цезаря"
   ]
  },
  {
   "cell_type": "markdown",
   "id": "a92b93cd",
   "metadata": {},
   "source": [
    "В тексте нет цифр, есть только буквы\\\n",
    "В английском наиболее употребляемая буква **E**\\\n",
    "Короткие зашифрованные слова опхожи на it, was\\\n",
    "С этим предположением можно раскодировать"
   ]
  },
  {
   "cell_type": "code",
   "execution_count": 1,
   "id": "fcd0f477",
   "metadata": {},
   "outputs": [],
   "source": [
    "file_path = 'data/encoded.txt'\n",
    "with open(file_path, 'r', encoding='utf-8') as file:\n",
    "    data = file.read()"
   ]
  },
  {
   "cell_type": "code",
   "execution_count": null,
   "id": "53734c9c",
   "metadata": {},
   "outputs": [],
   "source": [
    "def decrypt(file, shift):\n",
    "    \"\"\"Расшифровка Цезаря со сдвигом shift\"\"\"\n",
    "    result = []\n",
    "    for char in file:\n",
    "        if 'a' <= char <= 'z':\n",
    "            # ord() выдает значение/номер симфола в кодировке utf-8\n",
    "            result.append(chr((ord(char) - ord('a') - shift) % 26 + ord('a')))\n",
    "        elif 'A' <= char <= 'Z':\n",
    "            # chr() возвращает символ, соответствующий номеру кодировки\n",
    "            result.append(chr((ord(char) - ord('A') - shift) % 26 + ord('A')))\n",
    "        else:\n",
    "            # В тексте есть пробелы\n",
    "            result.append(char)\n",
    "    return ''.join(result)"
   ]
  }
 ],
 "metadata": {
  "kernelspec": {
   "display_name": "Python 3",
   "language": "python",
   "name": "python3"
  },
  "language_info": {
   "codemirror_mode": {
    "name": "ipython",
    "version": 3
   },
   "file_extension": ".py",
   "mimetype": "text/x-python",
   "name": "python",
   "nbconvert_exporter": "python",
   "pygments_lexer": "ipython3",
   "version": "3.12.4"
  }
 },
 "nbformat": 4,
 "nbformat_minor": 5
}
